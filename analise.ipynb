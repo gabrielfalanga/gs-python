{
 "cells": [
  {
   "attachments": {},
   "cell_type": "markdown",
   "metadata": {},
   "source": [
    "# ANÁLISE DE DADOS E ESTATÍSTICAS"
   ]
  },
  {
   "attachments": {},
   "cell_type": "markdown",
   "metadata": {},
   "source": [
    "## Importando bibliotecas e base de dados CSV"
   ]
  },
  {
   "cell_type": "code",
   "execution_count": 142,
   "metadata": {},
   "outputs": [
    {
     "data": {
      "text/html": [
       "<div>\n",
       "<style scoped>\n",
       "    .dataframe tbody tr th:only-of-type {\n",
       "        vertical-align: middle;\n",
       "    }\n",
       "\n",
       "    .dataframe tbody tr th {\n",
       "        vertical-align: top;\n",
       "    }\n",
       "\n",
       "    .dataframe thead th {\n",
       "        text-align: right;\n",
       "    }\n",
       "</style>\n",
       "<table border=\"1\" class=\"dataframe\">\n",
       "  <thead>\n",
       "    <tr style=\"text-align: right;\">\n",
       "      <th></th>\n",
       "      <th>id</th>\n",
       "      <th>tipo</th>\n",
       "      <th>estado</th>\n",
       "      <th>cidade</th>\n",
       "      <th>bairro</th>\n",
       "      <th>rua</th>\n",
       "      <th>data</th>\n",
       "      <th>hora</th>\n",
       "      <th>descricao</th>\n",
       "    </tr>\n",
       "  </thead>\n",
       "  <tbody>\n",
       "    <tr>\n",
       "      <th>0</th>\n",
       "      <td>1</td>\n",
       "      <td>Animal em perigo</td>\n",
       "      <td>SP</td>\n",
       "      <td>Santos</td>\n",
       "      <td>Boqueirão</td>\n",
       "      <td>Rua De Santos; 59</td>\n",
       "      <td>20 out 2024</td>\n",
       "      <td>12:25</td>\n",
       "      <td>Tartaruga está machucada.</td>\n",
       "    </tr>\n",
       "    <tr>\n",
       "      <th>1</th>\n",
       "      <td>2</td>\n",
       "      <td>Pesca ilegal</td>\n",
       "      <td>RJ</td>\n",
       "      <td>Paraty</td>\n",
       "      <td>Copacabana</td>\n",
       "      <td>Rua De Copacabana; 81</td>\n",
       "      <td>15 set 2024</td>\n",
       "      <td>08:56</td>\n",
       "      <td>Há um grupo de pescadores com redes.</td>\n",
       "    </tr>\n",
       "    <tr>\n",
       "      <th>2</th>\n",
       "      <td>3</td>\n",
       "      <td>Descarte inadequado</td>\n",
       "      <td>BA</td>\n",
       "      <td>Salvador</td>\n",
       "      <td>Pelourinho</td>\n",
       "      <td>Rua De Salvador; 22</td>\n",
       "      <td>16 ago 2024</td>\n",
       "      <td>19:12</td>\n",
       "      <td>Alguns homens estão jogando sacos de lixo na a...</td>\n",
       "    </tr>\n",
       "    <tr>\n",
       "      <th>3</th>\n",
       "      <td>4</td>\n",
       "      <td>Pesca ilegal</td>\n",
       "      <td>SP</td>\n",
       "      <td>Santos</td>\n",
       "      <td>Boqueirão</td>\n",
       "      <td>Rua De Santos; 33</td>\n",
       "      <td>29 mai 2024</td>\n",
       "      <td>10:15</td>\n",
       "      <td>Estão pescando aqui onde não pode.</td>\n",
       "    </tr>\n",
       "    <tr>\n",
       "      <th>4</th>\n",
       "      <td>5</td>\n",
       "      <td>Pesca ilegal</td>\n",
       "      <td>BA</td>\n",
       "      <td>Porto Seguro</td>\n",
       "      <td>Bairro De Porto</td>\n",
       "      <td>Orla Da Praia Das Conchas</td>\n",
       "      <td>29 mai 2024</td>\n",
       "      <td>10:18</td>\n",
       "      <td>Um homem alto de regata pescando no seu bote.</td>\n",
       "    </tr>\n",
       "    <tr>\n",
       "      <th>5</th>\n",
       "      <td>6</td>\n",
       "      <td>Descarte inadequado</td>\n",
       "      <td>RJ</td>\n",
       "      <td>Búzios</td>\n",
       "      <td>Bairro De Paraty</td>\n",
       "      <td>Rua Da Ponte Vermelha</td>\n",
       "      <td>29 mai 2024</td>\n",
       "      <td>10:23</td>\n",
       "      <td>Jogaram uma caçamba de entulho na beira do rio.</td>\n",
       "    </tr>\n",
       "    <tr>\n",
       "      <th>6</th>\n",
       "      <td>7</td>\n",
       "      <td>Animal em perigo</td>\n",
       "      <td>SP</td>\n",
       "      <td>Caraguatatuba</td>\n",
       "      <td>Bairro De Santos</td>\n",
       "      <td>Rua Da Praia De Santos; 77</td>\n",
       "      <td>29 mai 2024</td>\n",
       "      <td>10:25</td>\n",
       "      <td>Há uma baleia de uns 6 metros encalhada na praia.</td>\n",
       "    </tr>\n",
       "    <tr>\n",
       "      <th>7</th>\n",
       "      <td>8</td>\n",
       "      <td>Animal em perigo</td>\n",
       "      <td>SP</td>\n",
       "      <td>Praia Grande</td>\n",
       "      <td>Bairro Da Praia Grande</td>\n",
       "      <td>Rua Das Praias; 102</td>\n",
       "      <td>29 mai 2024</td>\n",
       "      <td>10:26</td>\n",
       "      <td>Tubarão com mordida de outro animal perto da a...</td>\n",
       "    </tr>\n",
       "    <tr>\n",
       "      <th>8</th>\n",
       "      <td>9</td>\n",
       "      <td>Animal em perigo</td>\n",
       "      <td>BA</td>\n",
       "      <td>Ilhéus</td>\n",
       "      <td>Bairro De Ilhéus</td>\n",
       "      <td>Rua Da Praia Bonita; 732</td>\n",
       "      <td>29 mai 2024</td>\n",
       "      <td>10:27</td>\n",
       "      <td>Vários filhotes de tartaruga passando no meio ...</td>\n",
       "    </tr>\n",
       "    <tr>\n",
       "      <th>9</th>\n",
       "      <td>10</td>\n",
       "      <td>Pesca ilegal</td>\n",
       "      <td>BA</td>\n",
       "      <td>Porto Seguro</td>\n",
       "      <td>Bairro De Porto Seguro</td>\n",
       "      <td>Rua Porto Bonito; 77</td>\n",
       "      <td>29 mai 2024</td>\n",
       "      <td>11:25</td>\n",
       "      <td>Tem um grupo de estrangeiros pescando em lugar...</td>\n",
       "    </tr>\n",
       "  </tbody>\n",
       "</table>\n",
       "</div>"
      ],
      "text/plain": [
       "   id                 tipo estado         cidade                  bairro  \\\n",
       "0   1     Animal em perigo     SP         Santos               Boqueirão   \n",
       "1   2         Pesca ilegal     RJ         Paraty              Copacabana   \n",
       "2   3  Descarte inadequado     BA       Salvador              Pelourinho   \n",
       "3   4         Pesca ilegal     SP         Santos               Boqueirão   \n",
       "4   5         Pesca ilegal     BA   Porto Seguro         Bairro De Porto   \n",
       "5   6  Descarte inadequado     RJ         Búzios        Bairro De Paraty   \n",
       "6   7     Animal em perigo     SP  Caraguatatuba        Bairro De Santos   \n",
       "7   8     Animal em perigo     SP   Praia Grande  Bairro Da Praia Grande   \n",
       "8   9     Animal em perigo     BA         Ilhéus        Bairro De Ilhéus   \n",
       "9  10         Pesca ilegal     BA   Porto Seguro  Bairro De Porto Seguro   \n",
       "\n",
       "                          rua         data   hora  \\\n",
       "0           Rua De Santos; 59  20 out 2024  12:25   \n",
       "1       Rua De Copacabana; 81  15 set 2024  08:56   \n",
       "2         Rua De Salvador; 22  16 ago 2024  19:12   \n",
       "3           Rua De Santos; 33  29 mai 2024  10:15   \n",
       "4   Orla Da Praia Das Conchas  29 mai 2024  10:18   \n",
       "5       Rua Da Ponte Vermelha  29 mai 2024  10:23   \n",
       "6  Rua Da Praia De Santos; 77  29 mai 2024  10:25   \n",
       "7         Rua Das Praias; 102  29 mai 2024  10:26   \n",
       "8    Rua Da Praia Bonita; 732  29 mai 2024  10:27   \n",
       "9        Rua Porto Bonito; 77  29 mai 2024  11:25   \n",
       "\n",
       "                                           descricao  \n",
       "0                          Tartaruga está machucada.  \n",
       "1               Há um grupo de pescadores com redes.  \n",
       "2  Alguns homens estão jogando sacos de lixo na a...  \n",
       "3                 Estão pescando aqui onde não pode.  \n",
       "4      Um homem alto de regata pescando no seu bote.  \n",
       "5    Jogaram uma caçamba de entulho na beira do rio.  \n",
       "6  Há uma baleia de uns 6 metros encalhada na praia.  \n",
       "7  Tubarão com mordida de outro animal perto da a...  \n",
       "8  Vários filhotes de tartaruga passando no meio ...  \n",
       "9  Tem um grupo de estrangeiros pescando em lugar...  "
      ]
     },
     "metadata": {},
     "output_type": "display_data"
    }
   ],
   "source": [
    "import pandas as pd\n",
    "\n",
    "chamados_df = pd.read_csv('chamados.csv')\n",
    "display(chamados_df)"
   ]
  },
  {
   "attachments": {},
   "cell_type": "markdown",
   "metadata": {},
   "source": [
    "## Removendo dados insignificantes para a análise"
   ]
  },
  {
   "cell_type": "code",
   "execution_count": 143,
   "metadata": {},
   "outputs": [
    {
     "data": {
      "text/html": [
       "<div>\n",
       "<style scoped>\n",
       "    .dataframe tbody tr th:only-of-type {\n",
       "        vertical-align: middle;\n",
       "    }\n",
       "\n",
       "    .dataframe tbody tr th {\n",
       "        vertical-align: top;\n",
       "    }\n",
       "\n",
       "    .dataframe thead th {\n",
       "        text-align: right;\n",
       "    }\n",
       "</style>\n",
       "<table border=\"1\" class=\"dataframe\">\n",
       "  <thead>\n",
       "    <tr style=\"text-align: right;\">\n",
       "      <th></th>\n",
       "      <th>tipo</th>\n",
       "      <th>estado</th>\n",
       "      <th>cidade</th>\n",
       "      <th>data</th>\n",
       "    </tr>\n",
       "  </thead>\n",
       "  <tbody>\n",
       "    <tr>\n",
       "      <th>0</th>\n",
       "      <td>Animal em perigo</td>\n",
       "      <td>SP</td>\n",
       "      <td>Santos</td>\n",
       "      <td>20 out 2024</td>\n",
       "    </tr>\n",
       "    <tr>\n",
       "      <th>1</th>\n",
       "      <td>Pesca ilegal</td>\n",
       "      <td>RJ</td>\n",
       "      <td>Paraty</td>\n",
       "      <td>15 set 2024</td>\n",
       "    </tr>\n",
       "    <tr>\n",
       "      <th>2</th>\n",
       "      <td>Descarte inadequado</td>\n",
       "      <td>BA</td>\n",
       "      <td>Salvador</td>\n",
       "      <td>16 ago 2024</td>\n",
       "    </tr>\n",
       "    <tr>\n",
       "      <th>3</th>\n",
       "      <td>Pesca ilegal</td>\n",
       "      <td>SP</td>\n",
       "      <td>Santos</td>\n",
       "      <td>29 mai 2024</td>\n",
       "    </tr>\n",
       "    <tr>\n",
       "      <th>4</th>\n",
       "      <td>Pesca ilegal</td>\n",
       "      <td>BA</td>\n",
       "      <td>Porto Seguro</td>\n",
       "      <td>29 mai 2024</td>\n",
       "    </tr>\n",
       "    <tr>\n",
       "      <th>5</th>\n",
       "      <td>Descarte inadequado</td>\n",
       "      <td>RJ</td>\n",
       "      <td>Búzios</td>\n",
       "      <td>29 mai 2024</td>\n",
       "    </tr>\n",
       "    <tr>\n",
       "      <th>6</th>\n",
       "      <td>Animal em perigo</td>\n",
       "      <td>SP</td>\n",
       "      <td>Caraguatatuba</td>\n",
       "      <td>29 mai 2024</td>\n",
       "    </tr>\n",
       "    <tr>\n",
       "      <th>7</th>\n",
       "      <td>Animal em perigo</td>\n",
       "      <td>SP</td>\n",
       "      <td>Praia Grande</td>\n",
       "      <td>29 mai 2024</td>\n",
       "    </tr>\n",
       "    <tr>\n",
       "      <th>8</th>\n",
       "      <td>Animal em perigo</td>\n",
       "      <td>BA</td>\n",
       "      <td>Ilhéus</td>\n",
       "      <td>29 mai 2024</td>\n",
       "    </tr>\n",
       "    <tr>\n",
       "      <th>9</th>\n",
       "      <td>Pesca ilegal</td>\n",
       "      <td>BA</td>\n",
       "      <td>Porto Seguro</td>\n",
       "      <td>29 mai 2024</td>\n",
       "    </tr>\n",
       "  </tbody>\n",
       "</table>\n",
       "</div>"
      ],
      "text/plain": [
       "                  tipo estado         cidade         data\n",
       "0     Animal em perigo     SP         Santos  20 out 2024\n",
       "1         Pesca ilegal     RJ         Paraty  15 set 2024\n",
       "2  Descarte inadequado     BA       Salvador  16 ago 2024\n",
       "3         Pesca ilegal     SP         Santos  29 mai 2024\n",
       "4         Pesca ilegal     BA   Porto Seguro  29 mai 2024\n",
       "5  Descarte inadequado     RJ         Búzios  29 mai 2024\n",
       "6     Animal em perigo     SP  Caraguatatuba  29 mai 2024\n",
       "7     Animal em perigo     SP   Praia Grande  29 mai 2024\n",
       "8     Animal em perigo     BA         Ilhéus  29 mai 2024\n",
       "9         Pesca ilegal     BA   Porto Seguro  29 mai 2024"
      ]
     },
     "metadata": {},
     "output_type": "display_data"
    }
   ],
   "source": [
    "chamados_df = chamados_df.drop(columns=['id', 'descricao', 'rua', 'bairro', 'hora'])\n",
    "display(chamados_df)"
   ]
  },
  {
   "attachments": {},
   "cell_type": "markdown",
   "metadata": {},
   "source": [
    "## Chamados de cada estado"
   ]
  },
  {
   "cell_type": "code",
   "execution_count": 144,
   "metadata": {},
   "outputs": [
    {
     "data": {
      "text/plain": [
       "tipo              estado  cidade         data       \n",
       "Animal em perigo  BA      Ilhéus         29 mai 2024    1\n",
       "                  SP      Caraguatatuba  29 mai 2024    1\n",
       "                          Praia Grande   29 mai 2024    1\n",
       "                          Santos         20 out 2024    1\n",
       "Name: count, dtype: int64"
      ]
     },
     "metadata": {},
     "output_type": "display_data"
    }
   ],
   "source": [
    "conta_tipos = chamados_df.loc[chamados_df['tipo'] == 'Animal em perigo']\n",
    "display(conta_tipos.value_counts())"
   ]
  },
  {
   "cell_type": "code",
   "execution_count": 147,
   "metadata": {},
   "outputs": [
    {
     "data": {
      "text/html": [
       "<div>\n",
       "<style scoped>\n",
       "    .dataframe tbody tr th:only-of-type {\n",
       "        vertical-align: middle;\n",
       "    }\n",
       "\n",
       "    .dataframe tbody tr th {\n",
       "        vertical-align: top;\n",
       "    }\n",
       "\n",
       "    .dataframe thead th {\n",
       "        text-align: right;\n",
       "    }\n",
       "</style>\n",
       "<table border=\"1\" class=\"dataframe\">\n",
       "  <thead>\n",
       "    <tr style=\"text-align: right;\">\n",
       "      <th></th>\n",
       "      <th>tipo</th>\n",
       "      <th>estado</th>\n",
       "      <th>cidade</th>\n",
       "      <th>data</th>\n",
       "    </tr>\n",
       "  </thead>\n",
       "  <tbody>\n",
       "    <tr>\n",
       "      <th>0</th>\n",
       "      <td>Animal em perigo</td>\n",
       "      <td>SP</td>\n",
       "      <td>Santos</td>\n",
       "      <td>20 out 2024</td>\n",
       "    </tr>\n",
       "    <tr>\n",
       "      <th>1</th>\n",
       "      <td>Pesca ilegal</td>\n",
       "      <td>RJ</td>\n",
       "      <td>Paraty</td>\n",
       "      <td>15 set 2024</td>\n",
       "    </tr>\n",
       "    <tr>\n",
       "      <th>2</th>\n",
       "      <td>Descarte inadequado</td>\n",
       "      <td>BA</td>\n",
       "      <td>Salvador</td>\n",
       "      <td>16 ago 2024</td>\n",
       "    </tr>\n",
       "    <tr>\n",
       "      <th>3</th>\n",
       "      <td>Pesca ilegal</td>\n",
       "      <td>SP</td>\n",
       "      <td>Santos</td>\n",
       "      <td>29 mai 2024</td>\n",
       "    </tr>\n",
       "    <tr>\n",
       "      <th>4</th>\n",
       "      <td>Pesca ilegal</td>\n",
       "      <td>BA</td>\n",
       "      <td>Porto Seguro</td>\n",
       "      <td>29 mai 2024</td>\n",
       "    </tr>\n",
       "    <tr>\n",
       "      <th>5</th>\n",
       "      <td>Descarte inadequado</td>\n",
       "      <td>RJ</td>\n",
       "      <td>Búzios</td>\n",
       "      <td>29 mai 2024</td>\n",
       "    </tr>\n",
       "    <tr>\n",
       "      <th>6</th>\n",
       "      <td>Animal em perigo</td>\n",
       "      <td>SP</td>\n",
       "      <td>Caraguatatuba</td>\n",
       "      <td>29 mai 2024</td>\n",
       "    </tr>\n",
       "    <tr>\n",
       "      <th>7</th>\n",
       "      <td>Animal em perigo</td>\n",
       "      <td>SP</td>\n",
       "      <td>Praia Grande</td>\n",
       "      <td>29 mai 2024</td>\n",
       "    </tr>\n",
       "    <tr>\n",
       "      <th>8</th>\n",
       "      <td>Animal em perigo</td>\n",
       "      <td>BA</td>\n",
       "      <td>Ilhéus</td>\n",
       "      <td>29 mai 2024</td>\n",
       "    </tr>\n",
       "    <tr>\n",
       "      <th>9</th>\n",
       "      <td>Pesca ilegal</td>\n",
       "      <td>BA</td>\n",
       "      <td>Porto Seguro</td>\n",
       "      <td>29 mai 2024</td>\n",
       "    </tr>\n",
       "  </tbody>\n",
       "</table>\n",
       "</div>"
      ],
      "text/plain": [
       "                  tipo estado         cidade         data\n",
       "0     Animal em perigo     SP         Santos  20 out 2024\n",
       "1         Pesca ilegal     RJ         Paraty  15 set 2024\n",
       "2  Descarte inadequado     BA       Salvador  16 ago 2024\n",
       "3         Pesca ilegal     SP         Santos  29 mai 2024\n",
       "4         Pesca ilegal     BA   Porto Seguro  29 mai 2024\n",
       "5  Descarte inadequado     RJ         Búzios  29 mai 2024\n",
       "6     Animal em perigo     SP  Caraguatatuba  29 mai 2024\n",
       "7     Animal em perigo     SP   Praia Grande  29 mai 2024\n",
       "8     Animal em perigo     BA         Ilhéus  29 mai 2024\n",
       "9         Pesca ilegal     BA   Porto Seguro  29 mai 2024"
      ]
     },
     "metadata": {},
     "output_type": "display_data"
    },
    {
     "data": {
      "application/vnd.plotly.v1+json": {
       "config": {
        "plotlyServerURL": "https://plot.ly"
       },
       "data": [
        {
         "name": "Animal em perigo",
         "type": "bar",
         "x": [
          "SP",
          "RJ",
          "BA",
          "SP",
          "BA",
          "RJ",
          "SP",
          "SP",
          "BA",
          "BA"
         ],
         "y": [
          "Animal em perigo",
          "Pesca ilegal",
          "Descarte inadequado",
          "Pesca ilegal",
          "Pesca ilegal",
          "Descarte inadequado",
          "Animal em perigo",
          "Animal em perigo",
          "Animal em perigo",
          "Pesca ilegal"
         ]
        },
        {
         "name": "Pesca ilegal",
         "type": "bar",
         "x": [
          "SP",
          "RJ",
          "BA",
          "SP",
          "BA",
          "RJ",
          "SP",
          "SP",
          "BA",
          "BA"
         ],
         "y": [
          "Animal em perigo",
          "Pesca ilegal",
          "Descarte inadequado",
          "Pesca ilegal",
          "Pesca ilegal",
          "Descarte inadequado",
          "Animal em perigo",
          "Animal em perigo",
          "Animal em perigo",
          "Pesca ilegal"
         ]
        },
        {
         "name": "Descarte inadequado",
         "type": "bar",
         "x": [
          "SP",
          "RJ",
          "BA",
          "SP",
          "BA",
          "RJ",
          "SP",
          "SP",
          "BA",
          "BA"
         ],
         "y": [
          "Animal em perigo",
          "Pesca ilegal",
          "Descarte inadequado",
          "Pesca ilegal",
          "Pesca ilegal",
          "Descarte inadequado",
          "Animal em perigo",
          "Animal em perigo",
          "Animal em perigo",
          "Pesca ilegal"
         ]
        }
       ],
       "layout": {
        "template": {
         "data": {
          "bar": [
           {
            "error_x": {
             "color": "#2a3f5f"
            },
            "error_y": {
             "color": "#2a3f5f"
            },
            "marker": {
             "line": {
              "color": "#E5ECF6",
              "width": 0.5
             },
             "pattern": {
              "fillmode": "overlay",
              "size": 10,
              "solidity": 0.2
             }
            },
            "type": "bar"
           }
          ],
          "barpolar": [
           {
            "marker": {
             "line": {
              "color": "#E5ECF6",
              "width": 0.5
             },
             "pattern": {
              "fillmode": "overlay",
              "size": 10,
              "solidity": 0.2
             }
            },
            "type": "barpolar"
           }
          ],
          "carpet": [
           {
            "aaxis": {
             "endlinecolor": "#2a3f5f",
             "gridcolor": "white",
             "linecolor": "white",
             "minorgridcolor": "white",
             "startlinecolor": "#2a3f5f"
            },
            "baxis": {
             "endlinecolor": "#2a3f5f",
             "gridcolor": "white",
             "linecolor": "white",
             "minorgridcolor": "white",
             "startlinecolor": "#2a3f5f"
            },
            "type": "carpet"
           }
          ],
          "choropleth": [
           {
            "colorbar": {
             "outlinewidth": 0,
             "ticks": ""
            },
            "type": "choropleth"
           }
          ],
          "contour": [
           {
            "colorbar": {
             "outlinewidth": 0,
             "ticks": ""
            },
            "colorscale": [
             [
              0,
              "#0d0887"
             ],
             [
              0.1111111111111111,
              "#46039f"
             ],
             [
              0.2222222222222222,
              "#7201a8"
             ],
             [
              0.3333333333333333,
              "#9c179e"
             ],
             [
              0.4444444444444444,
              "#bd3786"
             ],
             [
              0.5555555555555556,
              "#d8576b"
             ],
             [
              0.6666666666666666,
              "#ed7953"
             ],
             [
              0.7777777777777778,
              "#fb9f3a"
             ],
             [
              0.8888888888888888,
              "#fdca26"
             ],
             [
              1,
              "#f0f921"
             ]
            ],
            "type": "contour"
           }
          ],
          "contourcarpet": [
           {
            "colorbar": {
             "outlinewidth": 0,
             "ticks": ""
            },
            "type": "contourcarpet"
           }
          ],
          "heatmap": [
           {
            "colorbar": {
             "outlinewidth": 0,
             "ticks": ""
            },
            "colorscale": [
             [
              0,
              "#0d0887"
             ],
             [
              0.1111111111111111,
              "#46039f"
             ],
             [
              0.2222222222222222,
              "#7201a8"
             ],
             [
              0.3333333333333333,
              "#9c179e"
             ],
             [
              0.4444444444444444,
              "#bd3786"
             ],
             [
              0.5555555555555556,
              "#d8576b"
             ],
             [
              0.6666666666666666,
              "#ed7953"
             ],
             [
              0.7777777777777778,
              "#fb9f3a"
             ],
             [
              0.8888888888888888,
              "#fdca26"
             ],
             [
              1,
              "#f0f921"
             ]
            ],
            "type": "heatmap"
           }
          ],
          "heatmapgl": [
           {
            "colorbar": {
             "outlinewidth": 0,
             "ticks": ""
            },
            "colorscale": [
             [
              0,
              "#0d0887"
             ],
             [
              0.1111111111111111,
              "#46039f"
             ],
             [
              0.2222222222222222,
              "#7201a8"
             ],
             [
              0.3333333333333333,
              "#9c179e"
             ],
             [
              0.4444444444444444,
              "#bd3786"
             ],
             [
              0.5555555555555556,
              "#d8576b"
             ],
             [
              0.6666666666666666,
              "#ed7953"
             ],
             [
              0.7777777777777778,
              "#fb9f3a"
             ],
             [
              0.8888888888888888,
              "#fdca26"
             ],
             [
              1,
              "#f0f921"
             ]
            ],
            "type": "heatmapgl"
           }
          ],
          "histogram": [
           {
            "marker": {
             "pattern": {
              "fillmode": "overlay",
              "size": 10,
              "solidity": 0.2
             }
            },
            "type": "histogram"
           }
          ],
          "histogram2d": [
           {
            "colorbar": {
             "outlinewidth": 0,
             "ticks": ""
            },
            "colorscale": [
             [
              0,
              "#0d0887"
             ],
             [
              0.1111111111111111,
              "#46039f"
             ],
             [
              0.2222222222222222,
              "#7201a8"
             ],
             [
              0.3333333333333333,
              "#9c179e"
             ],
             [
              0.4444444444444444,
              "#bd3786"
             ],
             [
              0.5555555555555556,
              "#d8576b"
             ],
             [
              0.6666666666666666,
              "#ed7953"
             ],
             [
              0.7777777777777778,
              "#fb9f3a"
             ],
             [
              0.8888888888888888,
              "#fdca26"
             ],
             [
              1,
              "#f0f921"
             ]
            ],
            "type": "histogram2d"
           }
          ],
          "histogram2dcontour": [
           {
            "colorbar": {
             "outlinewidth": 0,
             "ticks": ""
            },
            "colorscale": [
             [
              0,
              "#0d0887"
             ],
             [
              0.1111111111111111,
              "#46039f"
             ],
             [
              0.2222222222222222,
              "#7201a8"
             ],
             [
              0.3333333333333333,
              "#9c179e"
             ],
             [
              0.4444444444444444,
              "#bd3786"
             ],
             [
              0.5555555555555556,
              "#d8576b"
             ],
             [
              0.6666666666666666,
              "#ed7953"
             ],
             [
              0.7777777777777778,
              "#fb9f3a"
             ],
             [
              0.8888888888888888,
              "#fdca26"
             ],
             [
              1,
              "#f0f921"
             ]
            ],
            "type": "histogram2dcontour"
           }
          ],
          "mesh3d": [
           {
            "colorbar": {
             "outlinewidth": 0,
             "ticks": ""
            },
            "type": "mesh3d"
           }
          ],
          "parcoords": [
           {
            "line": {
             "colorbar": {
              "outlinewidth": 0,
              "ticks": ""
             }
            },
            "type": "parcoords"
           }
          ],
          "pie": [
           {
            "automargin": true,
            "type": "pie"
           }
          ],
          "scatter": [
           {
            "fillpattern": {
             "fillmode": "overlay",
             "size": 10,
             "solidity": 0.2
            },
            "type": "scatter"
           }
          ],
          "scatter3d": [
           {
            "line": {
             "colorbar": {
              "outlinewidth": 0,
              "ticks": ""
             }
            },
            "marker": {
             "colorbar": {
              "outlinewidth": 0,
              "ticks": ""
             }
            },
            "type": "scatter3d"
           }
          ],
          "scattercarpet": [
           {
            "marker": {
             "colorbar": {
              "outlinewidth": 0,
              "ticks": ""
             }
            },
            "type": "scattercarpet"
           }
          ],
          "scattergeo": [
           {
            "marker": {
             "colorbar": {
              "outlinewidth": 0,
              "ticks": ""
             }
            },
            "type": "scattergeo"
           }
          ],
          "scattergl": [
           {
            "marker": {
             "colorbar": {
              "outlinewidth": 0,
              "ticks": ""
             }
            },
            "type": "scattergl"
           }
          ],
          "scattermapbox": [
           {
            "marker": {
             "colorbar": {
              "outlinewidth": 0,
              "ticks": ""
             }
            },
            "type": "scattermapbox"
           }
          ],
          "scatterpolar": [
           {
            "marker": {
             "colorbar": {
              "outlinewidth": 0,
              "ticks": ""
             }
            },
            "type": "scatterpolar"
           }
          ],
          "scatterpolargl": [
           {
            "marker": {
             "colorbar": {
              "outlinewidth": 0,
              "ticks": ""
             }
            },
            "type": "scatterpolargl"
           }
          ],
          "scatterternary": [
           {
            "marker": {
             "colorbar": {
              "outlinewidth": 0,
              "ticks": ""
             }
            },
            "type": "scatterternary"
           }
          ],
          "surface": [
           {
            "colorbar": {
             "outlinewidth": 0,
             "ticks": ""
            },
            "colorscale": [
             [
              0,
              "#0d0887"
             ],
             [
              0.1111111111111111,
              "#46039f"
             ],
             [
              0.2222222222222222,
              "#7201a8"
             ],
             [
              0.3333333333333333,
              "#9c179e"
             ],
             [
              0.4444444444444444,
              "#bd3786"
             ],
             [
              0.5555555555555556,
              "#d8576b"
             ],
             [
              0.6666666666666666,
              "#ed7953"
             ],
             [
              0.7777777777777778,
              "#fb9f3a"
             ],
             [
              0.8888888888888888,
              "#fdca26"
             ],
             [
              1,
              "#f0f921"
             ]
            ],
            "type": "surface"
           }
          ],
          "table": [
           {
            "cells": {
             "fill": {
              "color": "#EBF0F8"
             },
             "line": {
              "color": "white"
             }
            },
            "header": {
             "fill": {
              "color": "#C8D4E3"
             },
             "line": {
              "color": "white"
             }
            },
            "type": "table"
           }
          ]
         },
         "layout": {
          "annotationdefaults": {
           "arrowcolor": "#2a3f5f",
           "arrowhead": 0,
           "arrowwidth": 1
          },
          "autotypenumbers": "strict",
          "coloraxis": {
           "colorbar": {
            "outlinewidth": 0,
            "ticks": ""
           }
          },
          "colorscale": {
           "diverging": [
            [
             0,
             "#8e0152"
            ],
            [
             0.1,
             "#c51b7d"
            ],
            [
             0.2,
             "#de77ae"
            ],
            [
             0.3,
             "#f1b6da"
            ],
            [
             0.4,
             "#fde0ef"
            ],
            [
             0.5,
             "#f7f7f7"
            ],
            [
             0.6,
             "#e6f5d0"
            ],
            [
             0.7,
             "#b8e186"
            ],
            [
             0.8,
             "#7fbc41"
            ],
            [
             0.9,
             "#4d9221"
            ],
            [
             1,
             "#276419"
            ]
           ],
           "sequential": [
            [
             0,
             "#0d0887"
            ],
            [
             0.1111111111111111,
             "#46039f"
            ],
            [
             0.2222222222222222,
             "#7201a8"
            ],
            [
             0.3333333333333333,
             "#9c179e"
            ],
            [
             0.4444444444444444,
             "#bd3786"
            ],
            [
             0.5555555555555556,
             "#d8576b"
            ],
            [
             0.6666666666666666,
             "#ed7953"
            ],
            [
             0.7777777777777778,
             "#fb9f3a"
            ],
            [
             0.8888888888888888,
             "#fdca26"
            ],
            [
             1,
             "#f0f921"
            ]
           ],
           "sequentialminus": [
            [
             0,
             "#0d0887"
            ],
            [
             0.1111111111111111,
             "#46039f"
            ],
            [
             0.2222222222222222,
             "#7201a8"
            ],
            [
             0.3333333333333333,
             "#9c179e"
            ],
            [
             0.4444444444444444,
             "#bd3786"
            ],
            [
             0.5555555555555556,
             "#d8576b"
            ],
            [
             0.6666666666666666,
             "#ed7953"
            ],
            [
             0.7777777777777778,
             "#fb9f3a"
            ],
            [
             0.8888888888888888,
             "#fdca26"
            ],
            [
             1,
             "#f0f921"
            ]
           ]
          },
          "colorway": [
           "#636efa",
           "#EF553B",
           "#00cc96",
           "#ab63fa",
           "#FFA15A",
           "#19d3f3",
           "#FF6692",
           "#B6E880",
           "#FF97FF",
           "#FECB52"
          ],
          "font": {
           "color": "#2a3f5f"
          },
          "geo": {
           "bgcolor": "white",
           "lakecolor": "white",
           "landcolor": "#E5ECF6",
           "showlakes": true,
           "showland": true,
           "subunitcolor": "white"
          },
          "hoverlabel": {
           "align": "left"
          },
          "hovermode": "closest",
          "mapbox": {
           "style": "light"
          },
          "paper_bgcolor": "white",
          "plot_bgcolor": "#E5ECF6",
          "polar": {
           "angularaxis": {
            "gridcolor": "white",
            "linecolor": "white",
            "ticks": ""
           },
           "bgcolor": "#E5ECF6",
           "radialaxis": {
            "gridcolor": "white",
            "linecolor": "white",
            "ticks": ""
           }
          },
          "scene": {
           "xaxis": {
            "backgroundcolor": "#E5ECF6",
            "gridcolor": "white",
            "gridwidth": 2,
            "linecolor": "white",
            "showbackground": true,
            "ticks": "",
            "zerolinecolor": "white"
           },
           "yaxis": {
            "backgroundcolor": "#E5ECF6",
            "gridcolor": "white",
            "gridwidth": 2,
            "linecolor": "white",
            "showbackground": true,
            "ticks": "",
            "zerolinecolor": "white"
           },
           "zaxis": {
            "backgroundcolor": "#E5ECF6",
            "gridcolor": "white",
            "gridwidth": 2,
            "linecolor": "white",
            "showbackground": true,
            "ticks": "",
            "zerolinecolor": "white"
           }
          },
          "shapedefaults": {
           "line": {
            "color": "#2a3f5f"
           }
          },
          "ternary": {
           "aaxis": {
            "gridcolor": "white",
            "linecolor": "white",
            "ticks": ""
           },
           "baxis": {
            "gridcolor": "white",
            "linecolor": "white",
            "ticks": ""
           },
           "bgcolor": "#E5ECF6",
           "caxis": {
            "gridcolor": "white",
            "linecolor": "white",
            "ticks": ""
           }
          },
          "title": {
           "x": 0.05
          },
          "xaxis": {
           "automargin": true,
           "gridcolor": "white",
           "linecolor": "white",
           "ticks": "",
           "title": {
            "standoff": 15
           },
           "zerolinecolor": "white",
           "zerolinewidth": 2
          },
          "yaxis": {
           "automargin": true,
           "gridcolor": "white",
           "linecolor": "white",
           "ticks": "",
           "title": {
            "standoff": 15
           },
           "zerolinecolor": "white",
           "zerolinewidth": 2
          }
         }
        }
       }
      }
     },
     "metadata": {},
     "output_type": "display_data"
    }
   ],
   "source": [
    "# https://barcelonageeks.com/como-agrupar-graficos-de-barras-en-python-plotly/\n",
    "\n",
    "import plotly.graph_objects as po\n",
    "\n",
    "display(chamados_df)\n",
    "  \n",
    "estados_plot = po.Figure(data=[px.Bar(name = 'Animal em perigo', x = chamados_df['estado'], y = chamados_df['tipo']),\n",
    "                               px.Bar(name = 'Pesca ilegal', x = chamados_df['estado'], y = chamados_df['tipo']),\n",
    "                               px.Bar(name = 'Descarte inadequado', x = chamados_df['estado'], y = chamados_df['tipo'])])\n",
    "                   \n",
    "estados_plot.show()"
   ]
  },
  {
   "cell_type": "code",
   "execution_count": 192,
   "metadata": {},
   "outputs": [
    {
     "name": "stdout",
     "output_type": "stream",
     "text": [
      "Animal em perigo 4\n",
      "Descarte inadequado 2\n",
      "Pesca ilegal 4\n"
     ]
    }
   ],
   "source": [
    "y = chamados_df.groupby('tipo')['tipo'].count()\n",
    "\n",
    "y = dict(y)\n",
    "\n",
    "for i in y:\n",
    "    print(i, y[i])"
   ]
  }
 ],
 "metadata": {
  "kernelspec": {
   "display_name": "Python 3",
   "language": "python",
   "name": "python3"
  },
  "language_info": {
   "codemirror_mode": {
    "name": "ipython",
    "version": 3
   },
   "file_extension": ".py",
   "mimetype": "text/x-python",
   "name": "python",
   "nbconvert_exporter": "python",
   "pygments_lexer": "ipython3",
   "version": "3.8.2"
  }
 },
 "nbformat": 4,
 "nbformat_minor": 2
}
